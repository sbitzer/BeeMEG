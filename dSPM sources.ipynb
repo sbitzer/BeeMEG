{
 "cells": [
  {
   "cell_type": "markdown",
   "metadata": {},
   "source": [
    "# Source reconstruction\n",
    "## Procedure: dSPM\n",
    "### given \n",
    "regressor betas, averaged over subject, for each channel and time point = $x_{ct}$\n",
    "\n",
    "### interpretation\n",
    "the amount of magnetic field change in a channel for a unit change in the regressor, or, equivalently, in a hypothetical experiment the magnetic field delta between two conditions of which one is the baseline with regressor=0 and another has regressor=1\n",
    "\n",
    "### reconstruction\n",
    "the magnetic field at a given time point $x_t$ is a linear combination of the magnetic fields at the sources $y_t$:\n",
    "\n",
    "$$x_t = My_t$$\n",
    "\n",
    "where $M$ is the solution of the forward model for the assumed sources $y_t$ which are equally distributed along the surface of the cortex of the considered subject (here: freesurfer average subject).\n",
    "\n",
    "Use Bayesian methods to invert this forward solution by assuming Gaussian distributions:\n",
    "\n",
    "$$y_t \\sim N(\\mu_t, \\Lambda)$$\n",
    "$$x_t \\sim N(My_t, \\Sigma)$$\n",
    "\n",
    "The minimum norm solution corresponds to estimating the posterior over $\\mu_t$ and the videos below show the dSPMs, i.e., as far as I have understood, the mean of the posterior over $\\mu_t$ divided by its standard deviation.\n",
    "\n",
    "The reconstruction depends on the covariances $\\Sigma$ and $\\Lambda$ where $\\Sigma$ describes the noise in the measurements of $x_t$ and $\\Lambda$ is a prior implementing constraints. As in my case $x_t$ are regressor betas, I chose to estimate the noise in these values from permuted betas resulting from randomly permuting the association between regressors and MEG signal across trials only (leaving time points and channels unpermuted). I can easily estimate the full covariance matrix from the permuted betas.\n",
    "\n",
    "MNE sets $\\Lambda$ using depth-weighting, orientation constraints and a measure of the signal to noise ratio. I estimated the signal to noise ratio of my data (mean betas) by dividing the mean standard deviation of the true betas by the mean standard deviation of the permuted betas. For the results below I used MNE's standard depth=0.8 and loose orientations."
   ]
  },
  {
   "cell_type": "markdown",
   "metadata": {},
   "source": [
    "## Results\n",
    "The videos below show reconstructed sources of the left hemisphere with a view from top-right-behind (occipital lobe is at the bottom-left and frontal is at the top-right).\n",
    "\n",
    "### Without baseline correction\n",
    "<img src=\"figures/average_betas_201703161307.png\" />\n",
    "#### dot_x\n",
    "<video controls src=\"figures/source_201703161307_dot_x_lh.mp4\" />\n",
    "#### accev\n",
    "<video controls src=\"figures/source_201703161307_accev_lh.mp4\" />"
   ]
  },
  {
   "cell_type": "markdown",
   "metadata": {},
   "source": [
    "### With baseline correction\n",
    "<img src=\"figures/average_betas_201703011927.png\" />\n",
    "#### dot_x\n",
    "<video controls src=\"figures/source_201703011927_dot_x_lh.mp4\" />\n",
    "#### accev\n",
    "<video controls src=\"figures/source_201703011927_accev_lh.mp4\" />"
   ]
  },
  {
   "cell_type": "code",
   "execution_count": null,
   "metadata": {
    "collapsed": true
   },
   "outputs": [],
   "source": []
  }
 ],
 "metadata": {
  "kernelspec": {
   "display_name": "Python 3",
   "language": "python",
   "name": "python3"
  },
  "language_info": {
   "codemirror_mode": {
    "name": "ipython",
    "version": 3
   },
   "file_extension": ".py",
   "mimetype": "text/x-python",
   "name": "python",
   "nbconvert_exporter": "python",
   "pygments_lexer": "ipython3",
   "version": "3.5.2"
  }
 },
 "nbformat": 4,
 "nbformat_minor": 0
}
