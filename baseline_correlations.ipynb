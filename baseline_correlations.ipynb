{
 "cells": [
  {
   "cell_type": "code",
   "execution_count": 85,
   "metadata": {
    "collapsed": false
   },
   "outputs": [],
   "source": [
    "%matplotlib notebook\n",
    "import pandas as pd\n",
    "import mne\n",
    "import numpy as np\n",
    "import seaborn as sns\n",
    "import helpers\n",
    "import subject_DM\n",
    "import statsmodels.api as sm\n",
    "from scipy.stats import ttest_1samp"
   ]
  },
  {
   "cell_type": "markdown",
   "metadata": {},
   "source": [
    "# Compute baseline activity for all subjects"
   ]
  },
  {
   "cell_type": "code",
   "execution_count": 4,
   "metadata": {
    "collapsed": true
   },
   "outputs": [],
   "source": [
    "chtype = 'mag'\n",
    "bl = (-0.3, 0.0)\n",
    "\n",
    "subjects = helpers.find_available_subjects(megdatadir=helpers.megdatadir)\n",
    "S = len(subjects)"
   ]
  },
  {
   "cell_type": "code",
   "execution_count": 60,
   "metadata": {
    "collapsed": true
   },
   "outputs": [
    {
     "name": "stdout",
     "output_type": "stream",
     "text": [
      "loading subject  2\n",
      "480 matching events found\n",
      "0 bad epochs dropped\n",
      "Converting time column to int64...\n",
      "loading subject  3\n",
      "480 matching events found\n",
      "0 bad epochs dropped\n",
      "Converting time column to int64...\n",
      "loading subject  4\n",
      "480 matching events found\n",
      "0 bad epochs dropped\n",
      "Converting time column to int64...\n",
      "loading subject  5\n",
      "480 matching events found\n",
      "0 bad epochs dropped\n",
      "Converting time column to int64...\n",
      "loading subject  6\n",
      "480 matching events found\n",
      "0 bad epochs dropped\n",
      "Converting time column to int64...\n",
      "loading subject  7\n",
      "480 matching events found\n",
      "0 bad epochs dropped\n",
      "Converting time column to int64...\n",
      "loading subject  8\n",
      "480 matching events found\n",
      "0 bad epochs dropped\n",
      "Converting time column to int64...\n",
      "loading subject  9\n",
      "480 matching events found\n",
      "0 bad epochs dropped\n",
      "Converting time column to int64...\n",
      "loading subject 10\n",
      "480 matching events found\n",
      "0 bad epochs dropped\n",
      "Converting time column to int64...\n",
      "loading subject 11\n",
      "480 matching events found\n",
      "0 bad epochs dropped\n",
      "Converting time column to int64...\n",
      "loading subject 12\n",
      "480 matching events found\n",
      "0 bad epochs dropped\n",
      "Converting time column to int64...\n",
      "loading subject 13\n",
      "480 matching events found\n",
      "0 bad epochs dropped\n",
      "Converting time column to int64...\n",
      "loading subject 15\n",
      "480 matching events found\n",
      "0 bad epochs dropped\n",
      "Converting time column to int64...\n",
      "loading subject 16\n",
      "480 matching events found\n",
      "0 bad epochs dropped\n",
      "Converting time column to int64...\n",
      "loading subject 17\n",
      "480 matching events found\n",
      "0 bad epochs dropped\n",
      "Converting time column to int64...\n",
      "loading subject 18\n",
      "480 matching events found\n",
      "0 bad epochs dropped\n",
      "Converting time column to int64...\n",
      "loading subject 19\n",
      "480 matching events found\n",
      "0 bad epochs dropped\n",
      "Converting time column to int64...\n",
      "loading subject 20\n",
      "480 matching events found\n",
      "0 bad epochs dropped\n",
      "Converting time column to int64...\n",
      "loading subject 21\n",
      "480 matching events found\n",
      "0 bad epochs dropped\n",
      "Converting time column to int64...\n",
      "loading subject 22\n",
      "480 matching events found\n",
      "0 bad epochs dropped\n",
      "Converting time column to int64...\n",
      "loading subject 23\n",
      "480 matching events found\n",
      "0 bad epochs dropped\n",
      "Converting time column to int64...\n",
      "loading subject 24\n",
      "480 matching events found\n",
      "0 bad epochs dropped\n",
      "Converting time column to int64...\n",
      "loading subject 25\n",
      "480 matching events found\n",
      "0 bad epochs dropped\n",
      "Converting time column to int64...\n",
      "loading subject 26\n",
      "480 matching events found\n",
      "0 bad epochs dropped\n",
      "Converting time column to int64...\n",
      "loading subject 27\n",
      "480 matching events found\n",
      "0 bad epochs dropped\n",
      "Converting time column to int64...\n",
      "loading subject 28\n",
      "480 matching events found\n",
      "0 bad epochs dropped\n",
      "Converting time column to int64...\n",
      "loading subject 29\n",
      "480 matching events found\n",
      "0 bad epochs dropped\n",
      "Converting time column to int64...\n",
      "loading subject 31\n",
      "480 matching events found\n",
      "0 bad epochs dropped\n",
      "Converting time column to int64...\n",
      "loading subject 32\n",
      "480 matching events found\n",
      "0 bad epochs dropped\n",
      "Converting time column to int64...\n",
      "loading subject 33\n",
      "480 matching events found\n",
      "0 bad epochs dropped\n",
      "Converting time column to int64...\n",
      "loading subject 34\n",
      "480 matching events found\n",
      "0 bad epochs dropped\n",
      "Converting time column to int64...\n",
      "loading subject 35\n",
      "480 matching events found\n",
      "0 bad epochs dropped\n",
      "Converting time column to int64...\n",
      "loading subject 36\n",
      "480 matching events found\n",
      "0 bad epochs dropped\n",
      "Converting time column to int64...\n",
      "loading subject 37\n",
      "480 matching events found\n",
      "0 bad epochs dropped\n",
      "Converting time column to int64...\n"
     ]
    }
   ],
   "source": [
    "baseline_all = []\n",
    "for sub in subjects:\n",
    "    print('loading subject %2d' % sub)\n",
    "    # load MNE epochs\n",
    "    epochs = helpers.load_meg_epochs_from_sdat(sub, helpers.megdatadir)\n",
    "\n",
    "    # pick specific channels\n",
    "    epochs = epochs.pick_types(meg='mag')\n",
    "\n",
    "    df = epochs.to_data_frame()\n",
    "    df.index = pd.MultiIndex.from_product(\n",
    "        [np.arange(480)+1, df.index.levels[2]], names=['trial', 'time'])\n",
    "    \n",
    "    baseline_all.append(df.loc[(slice(None), slice(int(bl[0]*1000), int(bl[1]*1000))), :].mean(level='trial'))\n",
    "    \n",
    "baseline_all = pd.concat(baseline_all, keys=subjects, names=['subject'])\n",
    "baseline_all_norm = (baseline_all - baseline_all.mean()) / baseline_all.std()"
   ]
  },
  {
   "cell_type": "markdown",
   "metadata": {},
   "source": [
    "# Correlate baseline activity with regressors"
   ]
  },
  {
   "cell_type": "markdown",
   "metadata": {},
   "source": [
    "## define regressors"
   ]
  },
  {
   "cell_type": "code",
   "execution_count": 75,
   "metadata": {
    "collapsed": false
   },
   "outputs": [],
   "source": [
    "r_names = ['abs_dot_y', 'abs_dot_x', 'dot_y', 'dot_x', 'entropy', 'trial_time', \n",
    "           'intercept', 'response', 'dot_x_cflip']\n",
    "\n",
    "dots = np.arange(1, 6)\n",
    "\n",
    "rt_thresh = 0.1\n",
    "\n",
    "if 'RT' in r_names:\n",
    "    DM = subject_DM.get_trial_DM(dots, r_names=r_names)\n",
    "else:\n",
    "    DM = subject_DM.get_trial_DM(dots, r_names=r_names+['RT'])\n",
    "    \n",
    "DM = DM.loc(axis=0)[subjects, :]\n",
    "\n",
    "good_trials = DM['RT'] >= helpers.dotdt*(dots.max()-1) + rt_thresh\n",
    "\n",
    "if 'RT' not in r_names:\n",
    "    del DM['RT']\n",
    "    \n",
    "DM = DM.loc[good_trials]\n",
    "\n",
    "DM.sort_index(axis=1, inplace=True)\n",
    "R = DM.shape[1]"
   ]
  },
  {
   "cell_type": "markdown",
   "metadata": {},
   "source": [
    "normalise"
   ]
  },
  {
   "cell_type": "code",
   "execution_count": 77,
   "metadata": {
    "collapsed": true
   },
   "outputs": [],
   "source": [
    "DM = (DM - DM.mean()) / DM.std()\n",
    "# intercept will be nan, because it has no variance\n",
    "DM['intercept'] = 1"
   ]
  },
  {
   "cell_type": "markdown",
   "metadata": {},
   "source": [
    "## run GLM"
   ]
  },
  {
   "cell_type": "code",
   "execution_count": 86,
   "metadata": {
    "collapsed": false
   },
   "outputs": [],
   "source": [
    "first_level = pd.DataFrame([], \n",
    "        index=baseline_all.columns,\n",
    "        columns=pd.MultiIndex.from_product([subjects, ['beta', 'bse'], \n",
    "              DM.columns], names=['subject', 'measure', 'regressor']), \n",
    "              dtype=np.float64)\n",
    "first_level.sort_index(axis=1, inplace=True)\n",
    "\n",
    "second_level = pd.DataFrame([], \n",
    "        index=baseline_all.columns, \n",
    "        columns=pd.MultiIndex.from_product([['mean', 'std', 'mlog10p'], \n",
    "              DM.columns], names=['measure', 'regressor']), dtype=np.float64)\n",
    "second_level.sort_index(axis=1, inplace=True)\n",
    "\n",
    "for channel in baseline_all_norm.columns:\n",
    "    print('computing channel ' + channel + ' ...')\n",
    "    \n",
    "    data = baseline_all_norm.loc[:, channel]\n",
    "    data = data.loc[good_trials.values]\n",
    "\n",
    "    params = np.zeros((S, R))\n",
    "    for s, sub in enumerate(subjects):\n",
    "        res = sm.OLS(data.loc[sub].values, DM.loc[sub].values, \n",
    "                     hasconst=True).fit()\n",
    "        params[s, :] = res.params\n",
    "\n",
    "        first_level.loc[channel, (sub, 'beta', slice(None))] = (\n",
    "            params[s, :])\n",
    "        first_level.loc[channel, (sub, 'bse', slice(None))] = (\n",
    "            res.bse)\n",
    "\n",
    "    second_level.loc[channel, ('mean', slice(None))] = (\n",
    "            params.mean(axis=0))\n",
    "    second_level.loc[channel, ('std', slice(None))] = (\n",
    "            params.std(axis=0))\n",
    "    _, pvals = ttest_1samp(params, 0, axis=0)\n",
    "    second_level.loc[channel, ('mlog10p', slice(None))] = (\n",
    "            -np.log10(pvals))"
   ]
  },
  {
   "cell_type": "markdown",
   "metadata": {},
   "source": [
    "# Results"
   ]
  },
  {
   "cell_type": "code",
   "execution_count": 101,
   "metadata": {
    "collapsed": false
   },
   "outputs": [
    {
     "data": {
      "text/plain": [
       "regressor\n",
       "abs_dot_y_1      0.011849\n",
       "abs_dot_x_4      0.019495\n",
       "dot_y_3          0.019905\n",
       "intercept        0.020986\n",
       "dot_y_5          0.021576\n",
       "dot_x_cflip_5    0.021702\n",
       "abs_dot_y_3      0.021705\n",
       "abs_dot_y_4      0.023432\n",
       "dot_y_2          0.024063\n",
       "dot_y_4          0.024425\n",
       "abs_dot_x_5      0.024712\n",
       "dot_x_cflip_1    0.024744\n",
       "dot_x_cflip_2    0.026133\n",
       "dot_x_cflip_3    0.026900\n",
       "abs_dot_x_2      0.027672\n",
       "abs_dot_y_5      0.028879\n",
       "abs_dot_x_3      0.029128\n",
       "abs_dot_y_2      0.029682\n",
       "trial_time       0.030247\n",
       "dot_x_cflip_4    0.032756\n",
       "abs_dot_x_1      0.038001\n",
       "dot_y_1          0.043259\n",
       "response         0.044406\n",
       "entropy          0.054246\n",
       "dot_x_5          0.069555\n",
       "dot_x_2          0.071440\n",
       "dot_x_3          0.074581\n",
       "dot_x_4          0.077874\n",
       "dot_x_1          0.103972\n",
       "dtype: float64"
      ]
     },
     "execution_count": 101,
     "metadata": {},
     "output_type": "execute_result"
    }
   ],
   "source": [
    "measure = 'mean'\n",
    "\n",
    "second_level.xs(measure, axis=1, level='measure').abs().max().sort_values()"
   ]
  },
  {
   "cell_type": "code",
   "execution_count": null,
   "metadata": {
    "collapsed": true
   },
   "outputs": [],
   "source": []
  }
 ],
 "metadata": {
  "kernelspec": {
   "display_name": "Python 3",
   "language": "python",
   "name": "python3"
  },
  "language_info": {
   "codemirror_mode": {
    "name": "ipython",
    "version": 3
   },
   "file_extension": ".py",
   "mimetype": "text/x-python",
   "name": "python",
   "nbconvert_exporter": "python",
   "pygments_lexer": "ipython3",
   "version": "3.5.2"
  }
 },
 "nbformat": 4,
 "nbformat_minor": 0
}
